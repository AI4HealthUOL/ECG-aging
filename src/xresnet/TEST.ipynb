{
 "cells": [
  {
   "cell_type": "code",
   "execution_count": 1,
   "metadata": {
    "ExecuteTime": {
     "end_time": "2023-06-28T14:23:00.744057494Z",
     "start_time": "2023-06-28T14:22:57.374473593Z"
    },
    "collapsed": true
   },
   "outputs": [],
   "source": [
    "import torch\n",
    "from pytorch_lightning import Trainer\n",
    "\n",
    "import config\n",
    "import utils.net_utils as nu\n",
    "import utils.data_loader_utils as du"
   ]
  },
  {
   "cell_type": "markdown",
   "metadata": {
    "collapsed": false
   },
   "source": []
  },
  {
   "cell_type": "code",
   "execution_count": null,
   "metadata": {
    "collapsed": false
   },
   "outputs": [],
   "source": [
    "\n",
    "trainer = Trainer(precision=config.PRECISION)\n",
    "path_to_models = config.TARGET_FOLDER\n",
    "train_dl, val_dl, test_dl, class_weights = du.load_data_loaders(\"insert data set name here\",\n",
    "                                                                batch_size=1024)"
   ]
  },
  {
   "cell_type": "code",
   "execution_count": null,
   "metadata": {
    "collapsed": false
   },
   "outputs": [],
   "source": [
    "from utils.focal_loss import CrossEntropyFocalLoss\n",
    "\n",
    "\n",
    "nn_ce = nu.XResNet50(CrossEntropyFocalLoss(gamma=0.7, weight=class_weights), lr=0.0001)\n",
    "model_name = \"insert model name here\"\n",
    "saved_params = torch.load(path_to_models + model_name)\n",
    "nn_ce.load_state_dict(saved_params)\n",
    "nn_ce.eval()\n",
    "\n",
    "trainer.test(model=nn_ce, dataloaders=test_dl)\n",
    "trainer.validate(model=nn_ce, dataloaders=val_dl)"
   ]
  },
  {
   "cell_type": "markdown",
   "metadata": {
    "collapsed": false
   },
   "source": []
  }
 ],
 "metadata": {
  "kernelspec": {
   "display_name": "Python 3",
   "language": "python",
   "name": "python3"
  },
  "language_info": {
   "codemirror_mode": {
    "name": "ipython",
    "version": 2
   },
   "file_extension": ".py",
   "mimetype": "text/x-python",
   "name": "python",
   "nbconvert_exporter": "python",
   "pygments_lexer": "ipython2",
   "version": "2.7.6"
  }
 },
 "nbformat": 4,
 "nbformat_minor": 0
}
