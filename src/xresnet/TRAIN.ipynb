{
 "cells": [
  {
   "cell_type": "code",
   "execution_count": 1,
   "metadata": {
    "collapsed": true,
    "ExecuteTime": {
     "end_time": "2023-06-27T22:51:58.424907765Z",
     "start_time": "2023-06-27T22:51:53.622104934Z"
    }
   },
   "outputs": [],
   "source": [
    "#Imports\n",
    "import torch\n",
    "\n",
    "import utils.data_loader_utils as dl\n",
    "import utils.net_utils as nu\n",
    "import utils.train_utils as tu\n"
   ]
  },
  {
   "cell_type": "code",
   "execution_count": null,
   "outputs": [],
   "source": [
    "#load the dataset here!!!\n",
    "train_dl, val_dl, test_dl, class_weights = dl.load_data_loaders(\n",
    "    \"prepared_dataset_final_os_data_resampled_to_100\",\n",
    "    batch_size=1024)\n"
   ],
   "metadata": {
    "collapsed": false
   }
  },
  {
   "cell_type": "code",
   "execution_count": null,
   "outputs": [],
   "source": [
    "#Set up the loss function here\n",
    "from utils.focal_loss import CrossEntropyFocalLoss\n",
    "\n",
    "\n",
    "#train the model\n",
    "model_name = \"RESNET50\"\n",
    "net = nu.XResNet50(CrossEntropyFocalLoss(gamma=0.5), lr=0.00001)\n",
    "tu.train_and_validate_model(net, train_dl, val_dl,\n",
    "                            model_name, epochs=20, min_epochs=1,\n",
    "                            fast_dev_run=False)\n"
   ],
   "metadata": {
    "collapsed": false
   }
  }
 ],
 "metadata": {
  "kernelspec": {
   "display_name": "Python 3",
   "language": "python",
   "name": "python3"
  },
  "language_info": {
   "codemirror_mode": {
    "name": "ipython",
    "version": 2
   },
   "file_extension": ".py",
   "mimetype": "text/x-python",
   "name": "python",
   "nbconvert_exporter": "python",
   "pygments_lexer": "ipython2",
   "version": "2.7.6"
  }
 },
 "nbformat": 4,
 "nbformat_minor": 0
}
